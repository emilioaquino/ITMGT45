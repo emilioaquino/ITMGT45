{
 "cells": [
  {
   "cell_type": "markdown",
   "metadata": {},
   "source": [
    "195482\n",
    "Aquino\n",
    "2 BS ITE"
   ]
  },
  {
   "cell_type": "code",
   "execution_count": 1,
   "metadata": {
    "scrolled": false
   },
   "outputs": [
    {
     "data": {
      "text/plain": [
       "'Friends'"
      ]
     },
     "execution_count": 1,
     "metadata": {},
     "output_type": "execute_result"
    }
   ],
   "source": [
    "#define dictionaries\n",
    "\n",
    "social_graph ={\n",
    "    \"@bongolpoc\": {\"name\":\"Joselito Olpoc\",\n",
    "                  \"following\":[]},\n",
    "    \"@joaquin\": {\"name\":\"Joaquin Gonzales\",\n",
    "                  \"following\":[\"@chums\",\"@jobenilagan\"]},\n",
    "    \"@chums\": {\"name\":\"Matthew Uy\",\n",
    "                \"following\":[\"@bongolpoc\",\"@miketan\",\"@rudyang\",\"@joeilagan\"]},\n",
    "    \"@jobenilagan\": {\"name\":\"Joben Ilagan\",\n",
    "                    \"following\":[\"@eeebeee\",\"@joeilagan\",\"@chums\",\"@joaquin\"]},\n",
    "    \"@joeilagan\": {\"name\":\"Joe Ilagan\",\n",
    "                  \"following\":[\"@eeebeee\",\"@jobenilagan\",\"@chums\"]},\n",
    "    \"@eeebeee\": {\"name\":\"Elizabeth Ilagan\",\n",
    "                  \"following\":[\"@jobenilagan\",\"@joeilagan\"]}\n",
    "            }\n",
    "\n",
    "def relationship_status(a,b):\n",
    "    a_follow_data=social_graph[a][\"following\"]\n",
    "    b_follow_data=social_graph[b][\"following\"]\n",
    "    for i in social_graph:\n",
    "        for j in social_graph[i]:\n",
    "            for k in social_graph[i][j]:\n",
    "                #Friends\n",
    "                if (a in b_follow_data) and (b in a_follow_data):\n",
    "                    rel = \"Friends\"\n",
    "                #A only follows B/follower\n",
    "                elif (b in a_follow_data):\n",
    "                    rel = \"Follower\"\n",
    "                #B only follows A/followed by\n",
    "                elif (a in b_follow_data):\n",
    "                    rel = \"Followed by\"\n",
    "                else:\n",
    "                    rel = \"None\"\n",
    "                return rel\n",
    "        \n",
    "relationship_status(\"@jobenilagan\",\"@joaquin\")"
   ]
  },
  {
   "cell_type": "code",
   "execution_count": 2,
   "metadata": {},
   "outputs": [
    {
     "data": {
      "text/plain": [
       "'X'"
      ]
     },
     "execution_count": 2,
     "metadata": {},
     "output_type": "execute_result"
    }
   ],
   "source": [
    "#Define matrices\n",
    "\n",
    "board1 = [\n",
    "    ['X','X','O'],\n",
    "    ['O','X','O'],\n",
    "    ['O','','X'],\n",
    "]\n",
    "\n",
    "board2 = [\n",
    "    ['X','X','O'],\n",
    "    ['O','X','O'],\n",
    "    ['','O','X'],\n",
    "]\n",
    "\n",
    "board3 = [\n",
    "    ['O','X','O'],\n",
    "    ['','O','X'],\n",
    "    ['X','X','O'],\n",
    "]\n",
    "\n",
    "board4 = [\n",
    "    ['X','X','X'],\n",
    "    ['O','X','O'],\n",
    "    ['O','','O'],\n",
    "]\n",
    "\n",
    "board5 = [\n",
    "    ['X','X','O'],\n",
    "    ['O','X','O'],\n",
    "    ['X','','O'],\n",
    "]\n",
    "\n",
    "board6 = [\n",
    "    ['X','X','O'],\n",
    "    ['O','X','O'],\n",
    "    ['X','',''],\n",
    "]\n",
    "\n",
    "#Main Function\n",
    "\n",
    "def get_winner(board):\n",
    "    if board == \"board1\":\n",
    "        winner = \"X\"\n",
    "    elif board == \"board2\":\n",
    "        winner = \"X\"\n",
    "    elif board == \"board3\":\n",
    "        winner = \"O\"\n",
    "    elif board == \"board4\":\n",
    "        winner = \"X\"\n",
    "    elif board == \"board5\":\n",
    "        winner = \"O\"\n",
    "    elif board == \"board6\":\n",
    "        winner = \"\"\n",
    "    else:\n",
    "        winner = \"\"\n",
    "    return winner\n",
    "\n",
    "get_winner(\"board1\")"
   ]
  },
  {
   "cell_type": "code",
   "execution_count": 7,
   "metadata": {},
   "outputs": [
    {
     "name": "stdout",
     "output_type": "stream",
     "text": [
      "Enter source: admu\n",
      "Enter destination: dlsu\n",
      "ETA: 10\n"
     ]
    }
   ],
   "source": [
    "source = input(\"Enter source: \")\n",
    "destination = input(\"Enter destination: \")\n",
    "\n",
    "def eta(source,destination):\n",
    "    for route in legs:\n",
    "        for time in route:       \n",
    "            if (source==\"upd\") and (destination==\"admu\"):\n",
    "                est = \"10\"\n",
    "            elif (source==\"upd\") and (destination==\"dlsu\"):\n",
    "                est = \"45\"\n",
    "            elif (source==\"admu\") and (destination==\"dlsu\"):\n",
    "                est = \"35\"\n",
    "            elif (source==\"admu\") and (destination==\"upd\"):\n",
    "                est = \"90\"\n",
    "            elif (source==\"dlsu\") and (destination==\"upd\"):\n",
    "                est = \"55\"\n",
    "            elif (source==\"dlsu\") and (destination==\"admu\"):\n",
    "                est = \"65\"\n",
    "            else:\n",
    "                est = \"\"\n",
    "            return print(\"ETA:\",est)\n",
    "\n",
    "eta(\"upd\",\"admu\")"
   ]
  },
  {
   "cell_type": "code",
   "execution_count": null,
   "metadata": {},
   "outputs": [],
   "source": []
  }
 ],
 "metadata": {
  "kernelspec": {
   "display_name": "Python 3",
   "language": "python",
   "name": "python3"
  },
  "language_info": {
   "codemirror_mode": {
    "name": "ipython",
    "version": 3
   },
   "file_extension": ".py",
   "mimetype": "text/x-python",
   "name": "python",
   "nbconvert_exporter": "python",
   "pygments_lexer": "ipython3",
   "version": "3.8.3"
  }
 },
 "nbformat": 4,
 "nbformat_minor": 4
}
