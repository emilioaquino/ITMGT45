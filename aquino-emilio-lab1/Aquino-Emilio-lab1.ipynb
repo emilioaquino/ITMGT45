{
 "cells": [
  {
   "cell_type": "markdown",
   "metadata": {},
   "source": [
    "195482\n",
    "Aquino\n",
    "2 BS ITE"
   ]
  },
  {
   "cell_type": "code",
   "execution_count": null,
   "metadata": {
    "scrolled": false
   },
   "outputs": [],
   "source": [
    "dollar=input(\"Enter the amount in US Dollars:\")\n",
    "print(dollar,\"US dollar(s) =\",int(float(dollar)*int(50)),\"Philippine Pesos.\")"
   ]
  },
  {
   "cell_type": "code",
   "execution_count": null,
   "metadata": {},
   "outputs": [],
   "source": [
    "a=input(\"\")\n",
    "b=input(\"\")\n",
    "print(int(int(a)+int(b)))\n",
    "print(int(int(b)-int(a)))\n",
    "print(int(int(a)*int(b)))\n",
    "print(int(int(a)/int(b)))\n",
    "print(int(int(a)%int(b)))"
   ]
  },
  {
   "cell_type": "code",
   "execution_count": null,
   "metadata": {
    "scrolled": false
   },
   "outputs": [],
   "source": [
    "weight=input(\"Enter kg:\")\n",
    "height=input(\"Enter cm:\")\n",
    "print(\"BMI:\",float(weight)/((float(height)/100)**2))"
   ]
  }
 ],
 "metadata": {
  "kernelspec": {
   "display_name": "Python 3",
   "language": "python",
   "name": "python3"
  },
  "language_info": {
   "codemirror_mode": {
    "name": "ipython",
    "version": 3
   },
   "file_extension": ".py",
   "mimetype": "text/x-python",
   "name": "python",
   "nbconvert_exporter": "python",
   "pygments_lexer": "ipython3",
   "version": "3.8.3"
  }
 },
 "nbformat": 4,
 "nbformat_minor": 4
}
